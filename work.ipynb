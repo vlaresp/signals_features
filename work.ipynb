{
 "cells": [
  {
   "cell_type": "markdown",
   "id": "38081cbe",
   "metadata": {},
   "source": [
    "In this notebook i will work on extracing the relevant features from ECG and acc"
   ]
  },
  {
   "cell_type": "code",
   "execution_count": 36,
   "id": "d9d5ab38",
   "metadata": {},
   "outputs": [],
   "source": [
    "import polars as pl\n",
    "import matplotlib.pyplot as plt\n",
    "import plotly.express as px"
   ]
  },
  {
   "cell_type": "code",
   "execution_count": 9,
   "id": "755cdbe5",
   "metadata": {},
   "outputs": [],
   "source": [
    "file_path = \"/newvolume/trial_II_files/SA06007/files_compare/ECGRec_202337_E112301_2025-05-19_ECG_denoised.csv\"\n"
   ]
  },
  {
   "cell_type": "code",
   "execution_count": 10,
   "id": "6e362346",
   "metadata": {},
   "outputs": [],
   "source": [
    "signals = pl.read_csv(file_path)"
   ]
  },
  {
   "cell_type": "code",
   "execution_count": 13,
   "id": "5402f651",
   "metadata": {},
   "outputs": [
    {
     "data": {
      "text/html": [
       "<div><style>\n",
       ".dataframe > thead > tr,\n",
       ".dataframe > tbody > tr {\n",
       "  text-align: right;\n",
       "  white-space: pre-wrap;\n",
       "}\n",
       "</style>\n",
       "<small>shape: (5, 34)</small><table border=\"1\" class=\"dataframe\"><thead><tr><th>App ID</th><th>Subject ID</th><th>Sensor SN</th><th>Sensor MAC</th><th>Record Time</th><th>Collect Time</th><th>Receive Time</th><th>Timezone</th><th>Sensor Battery</th><th>Sensor Info</th><th>SDK Version</th><th>Flash</th><th>Lead On</th><th>Activity</th><th>Magnification</th><th>Acc Accuracy</th><th>Sample Frequency</th><th>RR</th><th>Average RR</th><th>HR</th><th>RMSSD</th><th>Temperature</th><th>RWL</th><th>RRI</th><th>ACC</th><th>ECG</th><th>posture</th><th>EEAlgo</th><th>Activity Score</th><th>SNR</th><th>Noise</th><th>Acc Activity</th><th>Acc Step Offset</th><th>Acc Step Total</th></tr><tr><td>str</td><td>str</td><td>str</td><td>str</td><td>i64</td><td>i64</td><td>i64</td><td>i64</td><td>i64</td><td>str</td><td>str</td><td>bool</td><td>bool</td><td>bool</td><td>i64</td><td>i64</td><td>i64</td><td>f64</td><td>f64</td><td>i64</td><td>i64</td><td>f64</td><td>str</td><td>str</td><td>str</td><td>str</td><td>i64</td><td>str</td><td>i64</td><td>f64</td><td>i64</td><td>i64</td><td>i64</td><td>i64</td></tr></thead><tbody><tr><td>&quot;com.vivalnk.vitalsmonitor&quot;</td><td>&quot;SA06007&quot;</td><td>&quot;ECGRec_202337/E112301&quot;</td><td>&quot;D8:DC:44:FE:3B:77&quot;</td><td>1747648323822</td><td>1747648319625</td><td>1747648334027</td><td>10800</td><td>100</td><td>&quot;{&quot;accSamplingFrequency&quot;:25;&quot;cp…</td><td>&quot;3.4.0-mvm&quot;</td><td>true</td><td>true</td><td>false</td><td>1000</td><td>2048</td><td>128</td><td>-101.0</td><td>-10001.0</td><td>-401</td><td>0</td><td>30.0</td><td>&quot;[-1, -1, -1, -1, -1]&quot;</td><td>&quot;[0, 0, 0, 0, 0]&quot;</td><td>&quot;[{&#x27;x&#x27;: -1546, &#x27;y&#x27;: 986, &#x27;z&#x27;: 8…</td><td>&quot;[-14, 23, 10, 19, 20, 18, 22, …</td><td>2</td><td>null</td><td>-1</td><td>0.0</td><td>0</td><td>0</td><td>0</td><td>0</td></tr><tr><td>&quot;com.vivalnk.vitalsmonitor&quot;</td><td>&quot;SA06007&quot;</td><td>&quot;ECGRec_202337/E112301&quot;</td><td>&quot;D8:DC:44:FE:3B:77&quot;</td><td>1747648324822</td><td>1747648319626</td><td>1747648334027</td><td>10800</td><td>100</td><td>&quot;{&quot;accSamplingFrequency&quot;:25;&quot;cp…</td><td>&quot;3.4.0-mvm&quot;</td><td>true</td><td>true</td><td>false</td><td>1000</td><td>2048</td><td>128</td><td>-101.0</td><td>-10001.0</td><td>-401</td><td>0</td><td>30.0</td><td>&quot;[-1, -1, -1, -1, -1]&quot;</td><td>&quot;[0, 0, 0, 0, 0]&quot;</td><td>&quot;[{&#x27;x&#x27;: -1693, &#x27;y&#x27;: 665, &#x27;z&#x27;: 8…</td><td>&quot;[203, 197, 195, 172, 130, 140,…</td><td>2</td><td>null</td><td>-1</td><td>0.0</td><td>0</td><td>0</td><td>0</td><td>0</td></tr><tr><td>&quot;com.vivalnk.vitalsmonitor&quot;</td><td>&quot;SA06007&quot;</td><td>&quot;ECGRec_202337/E112301&quot;</td><td>&quot;D8:DC:44:FE:3B:77&quot;</td><td>1747648325822</td><td>1747648319626</td><td>1747648334027</td><td>10800</td><td>100</td><td>&quot;{&quot;accSamplingFrequency&quot;:25;&quot;cp…</td><td>&quot;3.4.0-mvm&quot;</td><td>true</td><td>true</td><td>false</td><td>1000</td><td>2048</td><td>128</td><td>-101.0</td><td>-10001.0</td><td>-316</td><td>0</td><td>30.0</td><td>&quot;[-1, -1, -1, -1, -1]&quot;</td><td>&quot;[0, 0, 0, 0, 0]&quot;</td><td>&quot;[{&#x27;x&#x27;: -1700, &#x27;y&#x27;: 821, &#x27;z&#x27;: 6…</td><td>&quot;[-17, -50, -69, -93, -109, -12…</td><td>2</td><td>null</td><td>-1</td><td>1.705173</td><td>0</td><td>0</td><td>0</td><td>0</td></tr><tr><td>&quot;com.vivalnk.vitalsmonitor&quot;</td><td>&quot;SA06007&quot;</td><td>&quot;ECGRec_202337/E112301&quot;</td><td>&quot;D8:DC:44:FE:3B:77&quot;</td><td>1747648326822</td><td>1747648319626</td><td>1747648334028</td><td>10800</td><td>100</td><td>&quot;{&quot;accSamplingFrequency&quot;:25;&quot;cp…</td><td>&quot;3.4.0-mvm&quot;</td><td>true</td><td>true</td><td>false</td><td>1000</td><td>2048</td><td>128</td><td>-101.0</td><td>-10001.0</td><td>-316</td><td>0</td><td>30.0</td><td>&quot;[45, 123, -1, -1, -1]&quot;</td><td>&quot;[0, 0, 0, 0, 0]&quot;</td><td>&quot;[{&#x27;x&#x27;: -1550, &#x27;y&#x27;: 1237, &#x27;z&#x27;: …</td><td>&quot;[21, 8, 13, 11, 407, 240, 151,…</td><td>2</td><td>null</td><td>-1</td><td>1.902409</td><td>0</td><td>0</td><td>0</td><td>0</td></tr><tr><td>&quot;com.vivalnk.vitalsmonitor&quot;</td><td>&quot;SA06007&quot;</td><td>&quot;ECGRec_202337/E112301&quot;</td><td>&quot;D8:DC:44:FE:3B:77&quot;</td><td>1747648327822</td><td>1747648319627</td><td>1747648334028</td><td>10800</td><td>100</td><td>&quot;{&quot;accSamplingFrequency&quot;:25;&quot;cp…</td><td>&quot;3.4.0-mvm&quot;</td><td>true</td><td>true</td><td>false</td><td>1000</td><td>2048</td><td>128</td><td>-101.0</td><td>-10001.0</td><td>47</td><td>-1</td><td>30.0</td><td>&quot;[29, -1, -1, -1, -1]&quot;</td><td>&quot;[2007, 515, 0, 0, 0]&quot;</td><td>&quot;[{&#x27;x&#x27;: -1727, &#x27;y&#x27;: 1059, &#x27;z&#x27;: …</td><td>&quot;[-353, -470, -599, -437, -481,…</td><td>2</td><td>null</td><td>-1</td><td>0.49867</td><td>1</td><td>0</td><td>0</td><td>0</td></tr></tbody></table></div>"
      ],
      "text/plain": [
       "shape: (5, 34)\n",
       "┌────────────┬────────────┬────────────┬───────────┬───┬───────┬───────────┬───────────┬───────────┐\n",
       "│ App ID     ┆ Subject ID ┆ Sensor SN  ┆ Sensor    ┆ … ┆ Noise ┆ Acc       ┆ Acc Step  ┆ Acc Step  │\n",
       "│ ---        ┆ ---        ┆ ---        ┆ MAC       ┆   ┆ ---   ┆ Activity  ┆ Offset    ┆ Total     │\n",
       "│ str        ┆ str        ┆ str        ┆ ---       ┆   ┆ i64   ┆ ---       ┆ ---       ┆ ---       │\n",
       "│            ┆            ┆            ┆ str       ┆   ┆       ┆ i64       ┆ i64       ┆ i64       │\n",
       "╞════════════╪════════════╪════════════╪═══════════╪═══╪═══════╪═══════════╪═══════════╪═══════════╡\n",
       "│ com.vivaln ┆ SA06007    ┆ ECGRec_202 ┆ D8:DC:44: ┆ … ┆ 0     ┆ 0         ┆ 0         ┆ 0         │\n",
       "│ k.vitalsmo ┆            ┆ 337/E11230 ┆ FE:3B:77  ┆   ┆       ┆           ┆           ┆           │\n",
       "│ nitor      ┆            ┆ 1          ┆           ┆   ┆       ┆           ┆           ┆           │\n",
       "│ com.vivaln ┆ SA06007    ┆ ECGRec_202 ┆ D8:DC:44: ┆ … ┆ 0     ┆ 0         ┆ 0         ┆ 0         │\n",
       "│ k.vitalsmo ┆            ┆ 337/E11230 ┆ FE:3B:77  ┆   ┆       ┆           ┆           ┆           │\n",
       "│ nitor      ┆            ┆ 1          ┆           ┆   ┆       ┆           ┆           ┆           │\n",
       "│ com.vivaln ┆ SA06007    ┆ ECGRec_202 ┆ D8:DC:44: ┆ … ┆ 0     ┆ 0         ┆ 0         ┆ 0         │\n",
       "│ k.vitalsmo ┆            ┆ 337/E11230 ┆ FE:3B:77  ┆   ┆       ┆           ┆           ┆           │\n",
       "│ nitor      ┆            ┆ 1          ┆           ┆   ┆       ┆           ┆           ┆           │\n",
       "│ com.vivaln ┆ SA06007    ┆ ECGRec_202 ┆ D8:DC:44: ┆ … ┆ 0     ┆ 0         ┆ 0         ┆ 0         │\n",
       "│ k.vitalsmo ┆            ┆ 337/E11230 ┆ FE:3B:77  ┆   ┆       ┆           ┆           ┆           │\n",
       "│ nitor      ┆            ┆ 1          ┆           ┆   ┆       ┆           ┆           ┆           │\n",
       "│ com.vivaln ┆ SA06007    ┆ ECGRec_202 ┆ D8:DC:44: ┆ … ┆ 1     ┆ 0         ┆ 0         ┆ 0         │\n",
       "│ k.vitalsmo ┆            ┆ 337/E11230 ┆ FE:3B:77  ┆   ┆       ┆           ┆           ┆           │\n",
       "│ nitor      ┆            ┆ 1          ┆           ┆   ┆       ┆           ┆           ┆           │\n",
       "└────────────┴────────────┴────────────┴───────────┴───┴───────┴───────────┴───────────┴───────────┘"
      ]
     },
     "execution_count": 13,
     "metadata": {},
     "output_type": "execute_result"
    }
   ],
   "source": [
    "signals.head(5)"
   ]
  },
  {
   "cell_type": "code",
   "execution_count": 15,
   "id": "3ced7f32",
   "metadata": {},
   "outputs": [
    {
     "data": {
      "text/plain": [
       "Schema([('App ID', String),\n",
       "        ('Subject ID', String),\n",
       "        ('Sensor SN', String),\n",
       "        ('Sensor MAC', String),\n",
       "        ('Record Time', Int64),\n",
       "        ('Collect Time', Int64),\n",
       "        ('Receive Time', Int64),\n",
       "        ('Timezone', Int64),\n",
       "        ('Sensor Battery', Int64),\n",
       "        ('Sensor Info', String),\n",
       "        ('SDK Version', String),\n",
       "        ('Flash', Boolean),\n",
       "        ('Lead On', Boolean),\n",
       "        ('Activity', Boolean),\n",
       "        ('Magnification', Int64),\n",
       "        ('Acc Accuracy', Int64),\n",
       "        ('Sample Frequency', Int64),\n",
       "        ('RR', Float64),\n",
       "        ('Average RR', Float64),\n",
       "        ('HR', Int64),\n",
       "        ('RMSSD', Int64),\n",
       "        ('Temperature', Float64),\n",
       "        ('RWL', String),\n",
       "        ('RRI', String),\n",
       "        ('ACC', String),\n",
       "        ('ECG', String),\n",
       "        ('posture', Int64),\n",
       "        ('EEAlgo', String),\n",
       "        ('Activity Score', Int64),\n",
       "        ('SNR', Float64),\n",
       "        ('Noise', Int64),\n",
       "        ('Acc Activity', Int64),\n",
       "        ('Acc Step Offset', Int64),\n",
       "        ('Acc Step Total', Int64)])"
      ]
     },
     "execution_count": 15,
     "metadata": {},
     "output_type": "execute_result"
    }
   ],
   "source": [
    "signals.schema"
   ]
  },
  {
   "cell_type": "code",
   "execution_count": 34,
   "id": "75eb1820",
   "metadata": {},
   "outputs": [
    {
     "data": {
      "text/plain": [
       "['App ID',\n",
       " 'Subject ID',\n",
       " 'Sensor SN',\n",
       " 'Sensor MAC',\n",
       " 'Record Time',\n",
       " 'Collect Time',\n",
       " 'Receive Time',\n",
       " 'Timezone',\n",
       " 'Sensor Battery',\n",
       " 'Sensor Info',\n",
       " 'SDK Version',\n",
       " 'Flash',\n",
       " 'Lead On',\n",
       " 'Activity',\n",
       " 'Magnification',\n",
       " 'Acc Accuracy',\n",
       " 'Sample Frequency',\n",
       " 'RR',\n",
       " 'Average RR',\n",
       " 'HR',\n",
       " 'RMSSD',\n",
       " 'Temperature',\n",
       " 'RWL',\n",
       " 'RRI',\n",
       " 'ACC',\n",
       " 'ECG',\n",
       " 'posture',\n",
       " 'EEAlgo',\n",
       " 'Activity Score',\n",
       " 'SNR',\n",
       " 'Noise',\n",
       " 'Acc Activity',\n",
       " 'Acc Step Offset',\n",
       " 'Acc Step Total']"
      ]
     },
     "execution_count": 34,
     "metadata": {},
     "output_type": "execute_result"
    }
   ],
   "source": [
    "signals.columns"
   ]
  },
  {
   "cell_type": "code",
   "execution_count": null,
   "id": "21b76d55",
   "metadata": {},
   "outputs": [],
   "source": [
    "acc_cols = [\n",
    " 'Subject ID',\n",
    " 'Record Time',\n",
    " 'Timezone',\n",
    " 'Sensor Battery',\n",
    " 'Lead On',\n",
    " 'Activity',\n",
    " 'RR',\n",
    " 'Average RR',\n",
    " 'Temperature',\n",
    " 'ACC',\n",
    " 'posture',\n",
    " 'EEAlgo',\n",
    " 'Activity Score',\n",
    " 'Acc Activity',\n",
    " 'Acc Step Offset',\n",
    " 'Acc Step Total']"
   ]
  },
  {
   "cell_type": "code",
   "execution_count": 35,
   "id": "037d3fec",
   "metadata": {},
   "outputs": [
    {
     "data": {
      "text/plain": [
       "{'App ID': 'com.vivalnk.vitalsmonitor',\n",
       " 'Subject ID': 'SA06007',\n",
       " 'Sensor SN': 'ECGRec_202337/E112301',\n",
       " 'Sensor MAC': 'D8:DC:44:FE:3B:77',\n",
       " 'Record Time': 1747691995822,\n",
       " 'Collect Time': 1747692003209,\n",
       " 'Receive Time': 1747692028827,\n",
       " 'Timezone': 10800,\n",
       " 'Sensor Battery': 97,\n",
       " 'Sensor Info': '{\"accSamplingFrequency\":25;\"cpuStatus\":4;\"manufacturer\":\"VIVALNK\";\"batteryStatus\":\"NOT_INCHARGING\";\"fwVersion\":\"3.0.0.0028\";\"accSamplingEnable\":1;\"hwVersion\":\"01\";\"samplingMultiple\":1;\"model\":\"VV330_1\";\"patchLeadStatus\":1;\"patchSamplingStatus\":1;\"leadOffAccEnable\":0;\"ecgSamplingFrequency\":128;\"accSamplingAccuracy\":2048;\"channelNumber\":\"\";\"flashNum\":0}',\n",
       " 'SDK Version': '3.4.0-mvm',\n",
       " 'Flash': True,\n",
       " 'Lead On': True,\n",
       " 'Activity': False,\n",
       " 'Magnification': 1000,\n",
       " 'Acc Accuracy': 2048,\n",
       " 'Sample Frequency': 128,\n",
       " 'RR': 19.0,\n",
       " 'Average RR': -10001.0,\n",
       " 'HR': 58,\n",
       " 'RMSSD': 34,\n",
       " 'Temperature': 38.0,\n",
       " 'RWL': '[77, -1, -1, -1, -1]',\n",
       " 'RRI': '[1031, 0, 0, 0, 0]',\n",
       " 'ACC': [{'x': -1691, 'y': -406, 'z': -1129},\n",
       "  {'x': -1689, 'y': -409, 'z': -1135},\n",
       "  {'x': -1686, 'y': -397, 'z': -1118},\n",
       "  {'x': -1695, 'y': -414, 'z': -1130},\n",
       "  {'x': -1690, 'y': -412, 'z': -1127},\n",
       "  {'x': -1694, 'y': -413, 'z': -1119},\n",
       "  {'x': -1692, 'y': -410, 'z': -1126},\n",
       "  {'x': -1683, 'y': -406, 'z': -1127},\n",
       "  {'x': -1693, 'y': -411, 'z': -1134},\n",
       "  {'x': -1707, 'y': -418, 'z': -1134},\n",
       "  {'x': -1688, 'y': -404, 'z': -1126},\n",
       "  {'x': -1696, 'y': -408, 'z': -1129},\n",
       "  {'x': -1689, 'y': -406, 'z': -1120},\n",
       "  {'x': -1694, 'y': -408, 'z': -1130},\n",
       "  {'x': -1691, 'y': -400, 'z': -1140},\n",
       "  {'x': -1680, 'y': -406, 'z': -1121},\n",
       "  {'x': -1683, 'y': -409, 'z': -1124},\n",
       "  {'x': -1696, 'y': -407, 'z': -1130},\n",
       "  {'x': -1694, 'y': -409, 'z': -1125},\n",
       "  {'x': -1694, 'y': -395, 'z': -1125},\n",
       "  {'x': -1706, 'y': -417, 'z': -1132},\n",
       "  {'x': -1706, 'y': -415, 'z': -1110},\n",
       "  {'x': -1687, 'y': -407, 'z': -1119},\n",
       "  {'x': -1690, 'y': -411, 'z': -1119},\n",
       "  {'x': -1690, 'y': -419, 'z': -1124}],\n",
       " 'ECG': '[3, 7, 0, 4, 1, 0, 6, 1, 2, 0, 1, -1, 2, 3, -2, 0, 2, -2, 1, 0, -7, -3, -2, -3, -6, -3, -2, -3, 0, -2, 2, -4, -6, -3, -8, -7, -6, -4, -9, -13, -8, -5, -7, -9, -4, 0, -6, 0, 0, 9, 9, 8, 2, -6, -1, -1, -1, -2, 0, -10, -15, -16, -18, -21, -17, -12, -9, -13, -8, -15, -13, -9, 16, 50, 52, 55, 34, 29, 35, 51, 55, 42, 19, 3, -11, -19, -16, -7, -3, -4, -3, -2, 1, -2, -1, -5, -9, -5, -6, -7, -5, -2, -6, -7, 3, 0, -2, -2, 0, -3, -5, -1, -5, 2, -2, -3, -1, 2, 2, 0, 2, -1, 0, 2, 3, 3, -2, 1]',\n",
       " 'posture': 6,\n",
       " 'EEAlgo': None,\n",
       " 'Activity Score': 0,\n",
       " 'SNR': 1.1862079415059754,\n",
       " 'Noise': 0,\n",
       " 'Acc Activity': 0,\n",
       " 'Acc Step Offset': 0,\n",
       " 'Acc Step Total': 0}"
      ]
     },
     "execution_count": 35,
     "metadata": {},
     "output_type": "execute_result"
    }
   ],
   "source": [
    "signals.row(-5, named=True)"
   ]
  },
  {
   "cell_type": "code",
   "execution_count": 27,
   "id": "c78d88aa",
   "metadata": {},
   "outputs": [
    {
     "name": "stderr",
     "output_type": "stream",
     "text": [
      "/tmp/ipykernel_24715/1037740387.py:3: MapWithoutReturnDtypeWarning: Calling `map_elements` without specifying `return_dtype` can lead to unpredictable results. Specify `return_dtype` to silence this warning.\n",
      "  signals = signals.with_columns(\n"
     ]
    }
   ],
   "source": [
    "import ast\n",
    "\n",
    "signals = signals.with_columns(\n",
    "    pl.col(\"ACC\").map_elements(lambda x: ast.literal_eval(x))\n",
    ")"
   ]
  },
  {
   "cell_type": "code",
   "execution_count": 30,
   "id": "4fc20213",
   "metadata": {},
   "outputs": [
    {
     "data": {
      "text/plain": [
       "[{'x': -1501, 'y': 1367, 'z': 305},\n",
       " {'x': -1524, 'y': 1361, 'z': 311},\n",
       " {'x': -1545, 'y': 1308, 'z': 261},\n",
       " {'x': -1557, 'y': 1333, 'z': 273},\n",
       " {'x': -1571, 'y': 1347, 'z': 257},\n",
       " {'x': -1516, 'y': 1325, 'z': 227},\n",
       " {'x': -1503, 'y': 1304, 'z': 243},\n",
       " {'x': -1499, 'y': 1343, 'z': 270},\n",
       " {'x': -1511, 'y': 1354, 'z': 287},\n",
       " {'x': -1508, 'y': 1339, 'z': 292},\n",
       " {'x': -1532, 'y': 1315, 'z': 301},\n",
       " {'x': -1534, 'y': 1330, 'z': 292},\n",
       " {'x': -1534, 'y': 1359, 'z': 313},\n",
       " {'x': -1522, 'y': 1351, 'z': 267},\n",
       " {'x': -1508, 'y': 1327, 'z': 279},\n",
       " {'x': -1518, 'y': 1337, 'z': 272},\n",
       " {'x': -1517, 'y': 1340, 'z': 282},\n",
       " {'x': -1505, 'y': 1347, 'z': 255},\n",
       " {'x': -1509, 'y': 1352, 'z': 254},\n",
       " {'x': -1505, 'y': 1363, 'z': 263},\n",
       " {'x': -1521, 'y': 1373, 'z': 261},\n",
       " {'x': -1518, 'y': 1371, 'z': 260},\n",
       " {'x': -1517, 'y': 1377, 'z': 255},\n",
       " {'x': -1522, 'y': 1377, 'z': 253},\n",
       " {'x': -1516, 'y': 1361, 'z': 228}]"
      ]
     },
     "execution_count": 30,
     "metadata": {},
     "output_type": "execute_result"
    }
   ],
   "source": [
    "signals.row(100, named=True)['ACC']\n"
   ]
  },
  {
   "cell_type": "code",
   "execution_count": null,
   "id": "f84c00de",
   "metadata": {},
   "outputs": [],
   "source": [
    "px.line(signals[''])"
   ]
  }
 ],
 "metadata": {
  "kernelspec": {
   "display_name": "Python 3",
   "language": "python",
   "name": "python3"
  },
  "language_info": {
   "codemirror_mode": {
    "name": "ipython",
    "version": 3
   },
   "file_extension": ".py",
   "mimetype": "text/x-python",
   "name": "python",
   "nbconvert_exporter": "python",
   "pygments_lexer": "ipython3",
   "version": "3.10.12"
  }
 },
 "nbformat": 4,
 "nbformat_minor": 5
}
